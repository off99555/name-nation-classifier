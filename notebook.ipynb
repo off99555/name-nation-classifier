{
 "cells": [
  {
   "cell_type": "code",
   "execution_count": 266,
   "metadata": {
    "collapsed": true
   },
   "outputs": [],
   "source": [
    "import pandas as pd\n",
    "import numpy as np\n",
    "from sklearn.model_selection import train_test_split\n",
    "from sklearn.tree import DecisionTreeClassifier"
   ]
  },
  {
   "cell_type": "code",
   "execution_count": 450,
   "metadata": {
    "collapsed": false,
    "scrolled": true
   },
   "outputs": [
    {
     "data": {
      "text/html": [
       "<div>\n",
       "<table border=\"1\" class=\"dataframe\">\n",
       "  <thead>\n",
       "    <tr style=\"text-align: right;\">\n",
       "      <th></th>\n",
       "      <th>first_name</th>\n",
       "      <th>last_name</th>\n",
       "      <th>nation</th>\n",
       "    </tr>\n",
       "  </thead>\n",
       "  <tbody>\n",
       "    <tr>\n",
       "      <th>0</th>\n",
       "      <td>PONGSIRI</td>\n",
       "      <td>SUASAT</td>\n",
       "      <td>THAI</td>\n",
       "    </tr>\n",
       "    <tr>\n",
       "      <th>1</th>\n",
       "      <td>NOPADON</td>\n",
       "      <td>MISANG</td>\n",
       "      <td>THAI</td>\n",
       "    </tr>\n",
       "    <tr>\n",
       "      <th>2</th>\n",
       "      <td>PASSARAPORN</td>\n",
       "      <td>JIROTRUNGROENGKUL</td>\n",
       "      <td>THAI</td>\n",
       "    </tr>\n",
       "    <tr>\n",
       "      <th>3</th>\n",
       "      <td>WORAWUT</td>\n",
       "      <td>SANGANGAM</td>\n",
       "      <td>THAI</td>\n",
       "    </tr>\n",
       "    <tr>\n",
       "      <th>4</th>\n",
       "      <td>KULPRIYA</td>\n",
       "      <td>KITCHAROEN</td>\n",
       "      <td>THAI</td>\n",
       "    </tr>\n",
       "    <tr>\n",
       "      <th>5</th>\n",
       "      <td>PATTHARAPONG</td>\n",
       "      <td>PIMONSAKONWONG</td>\n",
       "      <td>THAI</td>\n",
       "    </tr>\n",
       "    <tr>\n",
       "      <th>6</th>\n",
       "      <td>KANITTA</td>\n",
       "      <td>SUWANNARAT</td>\n",
       "      <td>THAI</td>\n",
       "    </tr>\n",
       "    <tr>\n",
       "      <th>7</th>\n",
       "      <td>JEDSADAKORN</td>\n",
       "      <td>PANICH</td>\n",
       "      <td>THAI</td>\n",
       "    </tr>\n",
       "    <tr>\n",
       "      <th>8</th>\n",
       "      <td>THITAPORN</td>\n",
       "      <td>KONKONG</td>\n",
       "      <td>THAI</td>\n",
       "    </tr>\n",
       "    <tr>\n",
       "      <th>9</th>\n",
       "      <td>DARUNWAN</td>\n",
       "      <td>THONGKHOENKHUN</td>\n",
       "      <td>THAI</td>\n",
       "    </tr>\n",
       "    <tr>\n",
       "      <th>10</th>\n",
       "      <td>PRAEWNAPA</td>\n",
       "      <td>TEANPANOM</td>\n",
       "      <td>THAI</td>\n",
       "    </tr>\n",
       "    <tr>\n",
       "      <th>11</th>\n",
       "      <td>NATTIDA</td>\n",
       "      <td>SEEBAND</td>\n",
       "      <td>THAI</td>\n",
       "    </tr>\n",
       "    <tr>\n",
       "      <th>12</th>\n",
       "      <td>TOSAPORN</td>\n",
       "      <td>SUKANAN</td>\n",
       "      <td>THAI</td>\n",
       "    </tr>\n",
       "    <tr>\n",
       "      <th>13</th>\n",
       "      <td>NEERACHA</td>\n",
       "      <td>TADAM</td>\n",
       "      <td>THAI</td>\n",
       "    </tr>\n",
       "    <tr>\n",
       "      <th>14</th>\n",
       "      <td>RATCHANON</td>\n",
       "      <td>PROYJAROEN</td>\n",
       "      <td>THAI</td>\n",
       "    </tr>\n",
       "    <tr>\n",
       "      <th>15</th>\n",
       "      <td>WARAPORN</td>\n",
       "      <td>WANDEE</td>\n",
       "      <td>THAI</td>\n",
       "    </tr>\n",
       "    <tr>\n",
       "      <th>16</th>\n",
       "      <td>WARISA</td>\n",
       "      <td>CHAISRISUT</td>\n",
       "      <td>THAI</td>\n",
       "    </tr>\n",
       "    <tr>\n",
       "      <th>17</th>\n",
       "      <td>WEERAPAT</td>\n",
       "      <td>JULLAGATE</td>\n",
       "      <td>THAI</td>\n",
       "    </tr>\n",
       "    <tr>\n",
       "      <th>18</th>\n",
       "      <td>PATINYA</td>\n",
       "      <td>WONGTIM</td>\n",
       "      <td>THAI</td>\n",
       "    </tr>\n",
       "    <tr>\n",
       "      <th>19</th>\n",
       "      <td>PHONGSATORN</td>\n",
       "      <td>SIRIBANJONG</td>\n",
       "      <td>THAI</td>\n",
       "    </tr>\n",
       "    <tr>\n",
       "      <th>20</th>\n",
       "      <td>PIMPIKA</td>\n",
       "      <td>BOONIN</td>\n",
       "      <td>THAI</td>\n",
       "    </tr>\n",
       "    <tr>\n",
       "      <th>21</th>\n",
       "      <td>SITTICHOK</td>\n",
       "      <td>THIANPRAYORT</td>\n",
       "      <td>THAI</td>\n",
       "    </tr>\n",
       "    <tr>\n",
       "      <th>22</th>\n",
       "      <td>KANYAWEE</td>\n",
       "      <td>BOONKOOMYOO</td>\n",
       "      <td>THAI</td>\n",
       "    </tr>\n",
       "    <tr>\n",
       "      <th>23</th>\n",
       "      <td>MONTHON</td>\n",
       "      <td>WANNAPHOP</td>\n",
       "      <td>THAI</td>\n",
       "    </tr>\n",
       "    <tr>\n",
       "      <th>24</th>\n",
       "      <td>PITNITHEE</td>\n",
       "      <td>MARPIJARN</td>\n",
       "      <td>THAI</td>\n",
       "    </tr>\n",
       "    <tr>\n",
       "      <th>25</th>\n",
       "      <td>JATUPORN</td>\n",
       "      <td>HEMRANON</td>\n",
       "      <td>THAI</td>\n",
       "    </tr>\n",
       "    <tr>\n",
       "      <th>26</th>\n",
       "      <td>THANAKORN</td>\n",
       "      <td>PANTHONG</td>\n",
       "      <td>THAI</td>\n",
       "    </tr>\n",
       "    <tr>\n",
       "      <th>27</th>\n",
       "      <td>SURIYA</td>\n",
       "      <td>KENMA</td>\n",
       "      <td>THAI</td>\n",
       "    </tr>\n",
       "    <tr>\n",
       "      <th>28</th>\n",
       "      <td>THODSAPORN</td>\n",
       "      <td>RUTANASOMRUAJ</td>\n",
       "      <td>THAI</td>\n",
       "    </tr>\n",
       "    <tr>\n",
       "      <th>29</th>\n",
       "      <td>MONTIDA</td>\n",
       "      <td>FURATTANA</td>\n",
       "      <td>THAI</td>\n",
       "    </tr>\n",
       "    <tr>\n",
       "      <th>...</th>\n",
       "      <td>...</td>\n",
       "      <td>...</td>\n",
       "      <td>...</td>\n",
       "    </tr>\n",
       "    <tr>\n",
       "      <th>169</th>\n",
       "      <td>CHANG</td>\n",
       "      <td>TIAN</td>\n",
       "      <td>CHINESE</td>\n",
       "    </tr>\n",
       "    <tr>\n",
       "      <th>170</th>\n",
       "      <td>KANG</td>\n",
       "      <td>MIN</td>\n",
       "      <td>CHINESE</td>\n",
       "    </tr>\n",
       "    <tr>\n",
       "      <th>171</th>\n",
       "      <td>ZENG</td>\n",
       "      <td>ZEDONG</td>\n",
       "      <td>CHINESE</td>\n",
       "    </tr>\n",
       "    <tr>\n",
       "      <th>172</th>\n",
       "      <td>CHEN</td>\n",
       "      <td>HONG</td>\n",
       "      <td>CHINESE</td>\n",
       "    </tr>\n",
       "    <tr>\n",
       "      <th>173</th>\n",
       "      <td>PAN</td>\n",
       "      <td>SHUN</td>\n",
       "      <td>CHINESE</td>\n",
       "    </tr>\n",
       "    <tr>\n",
       "      <th>174</th>\n",
       "      <td>SHAO</td>\n",
       "      <td>CHAO</td>\n",
       "      <td>CHINESE</td>\n",
       "    </tr>\n",
       "    <tr>\n",
       "      <th>175</th>\n",
       "      <td>ZOU</td>\n",
       "      <td>GENGXIN</td>\n",
       "      <td>CHINESE</td>\n",
       "    </tr>\n",
       "    <tr>\n",
       "      <th>176</th>\n",
       "      <td>LU</td>\n",
       "      <td>FANG</td>\n",
       "      <td>CHINESE</td>\n",
       "    </tr>\n",
       "    <tr>\n",
       "      <th>177</th>\n",
       "      <td>TANG</td>\n",
       "      <td>RONG</td>\n",
       "      <td>CHINESE</td>\n",
       "    </tr>\n",
       "    <tr>\n",
       "      <th>178</th>\n",
       "      <td>KONG</td>\n",
       "      <td>JINGYI</td>\n",
       "      <td>CHINESE</td>\n",
       "    </tr>\n",
       "    <tr>\n",
       "      <th>179</th>\n",
       "      <td>LIAN</td>\n",
       "      <td>FEN</td>\n",
       "      <td>CHINESE</td>\n",
       "    </tr>\n",
       "    <tr>\n",
       "      <th>180</th>\n",
       "      <td>XIAO</td>\n",
       "      <td>JIE</td>\n",
       "      <td>CHINESE</td>\n",
       "    </tr>\n",
       "    <tr>\n",
       "      <th>181</th>\n",
       "      <td>TAN</td>\n",
       "      <td>HAI</td>\n",
       "      <td>CHINESE</td>\n",
       "    </tr>\n",
       "    <tr>\n",
       "      <th>182</th>\n",
       "      <td>YIN</td>\n",
       "      <td>ZHONG</td>\n",
       "      <td>CHINESE</td>\n",
       "    </tr>\n",
       "    <tr>\n",
       "      <th>183</th>\n",
       "      <td>PAN</td>\n",
       "      <td>ZHOU</td>\n",
       "      <td>CHINESE</td>\n",
       "    </tr>\n",
       "    <tr>\n",
       "      <th>184</th>\n",
       "      <td>WANG</td>\n",
       "      <td>LINGXIN</td>\n",
       "      <td>CHINESE</td>\n",
       "    </tr>\n",
       "    <tr>\n",
       "      <th>185</th>\n",
       "      <td>XIE</td>\n",
       "      <td>LI</td>\n",
       "      <td>CHINESE</td>\n",
       "    </tr>\n",
       "    <tr>\n",
       "      <th>186</th>\n",
       "      <td>FU</td>\n",
       "      <td>JINGYI</td>\n",
       "      <td>CHINESE</td>\n",
       "    </tr>\n",
       "    <tr>\n",
       "      <th>187</th>\n",
       "      <td>ZHENG</td>\n",
       "      <td>HUAN</td>\n",
       "      <td>CHINESE</td>\n",
       "    </tr>\n",
       "    <tr>\n",
       "      <th>188</th>\n",
       "      <td>SHAO</td>\n",
       "      <td>QIGANG</td>\n",
       "      <td>CHINESE</td>\n",
       "    </tr>\n",
       "    <tr>\n",
       "      <th>189</th>\n",
       "      <td>JIANG</td>\n",
       "      <td>JIAHAO</td>\n",
       "      <td>CHINESE</td>\n",
       "    </tr>\n",
       "    <tr>\n",
       "      <th>190</th>\n",
       "      <td>HAO</td>\n",
       "      <td>ZHENKANG</td>\n",
       "      <td>CHINESE</td>\n",
       "    </tr>\n",
       "    <tr>\n",
       "      <th>191</th>\n",
       "      <td>XUE</td>\n",
       "      <td>JIANG</td>\n",
       "      <td>CHINESE</td>\n",
       "    </tr>\n",
       "    <tr>\n",
       "      <th>192</th>\n",
       "      <td>QIAN</td>\n",
       "      <td>SHI</td>\n",
       "      <td>CHINESE</td>\n",
       "    </tr>\n",
       "    <tr>\n",
       "      <th>193</th>\n",
       "      <td>HUANG</td>\n",
       "      <td>HANYING</td>\n",
       "      <td>CHINESE</td>\n",
       "    </tr>\n",
       "    <tr>\n",
       "      <th>194</th>\n",
       "      <td>SU</td>\n",
       "      <td>DONG</td>\n",
       "      <td>CHINESE</td>\n",
       "    </tr>\n",
       "    <tr>\n",
       "      <th>195</th>\n",
       "      <td>DU</td>\n",
       "      <td>QIGANG</td>\n",
       "      <td>CHINESE</td>\n",
       "    </tr>\n",
       "    <tr>\n",
       "      <th>196</th>\n",
       "      <td>XU</td>\n",
       "      <td>ZEMIN</td>\n",
       "      <td>CHINESE</td>\n",
       "    </tr>\n",
       "    <tr>\n",
       "      <th>197</th>\n",
       "      <td>WAN</td>\n",
       "      <td>YIJUN</td>\n",
       "      <td>CHINESE</td>\n",
       "    </tr>\n",
       "    <tr>\n",
       "      <th>198</th>\n",
       "      <td>ZI</td>\n",
       "      <td>QIU</td>\n",
       "      <td>CHINESE</td>\n",
       "    </tr>\n",
       "  </tbody>\n",
       "</table>\n",
       "<p>199 rows × 3 columns</p>\n",
       "</div>"
      ],
      "text/plain": [
       "       first_name          last_name   nation\n",
       "0        PONGSIRI             SUASAT     THAI\n",
       "1        NOPADON              MISANG     THAI\n",
       "2     PASSARAPORN  JIROTRUNGROENGKUL     THAI\n",
       "3         WORAWUT          SANGANGAM     THAI\n",
       "4        KULPRIYA         KITCHAROEN     THAI\n",
       "5    PATTHARAPONG     PIMONSAKONWONG     THAI\n",
       "6         KANITTA         SUWANNARAT     THAI\n",
       "7     JEDSADAKORN             PANICH     THAI\n",
       "8       THITAPORN            KONKONG     THAI\n",
       "9        DARUNWAN     THONGKHOENKHUN     THAI\n",
       "10      PRAEWNAPA          TEANPANOM     THAI\n",
       "11        NATTIDA            SEEBAND     THAI\n",
       "12       TOSAPORN            SUKANAN     THAI\n",
       "13       NEERACHA              TADAM     THAI\n",
       "14      RATCHANON         PROYJAROEN     THAI\n",
       "15       WARAPORN             WANDEE     THAI\n",
       "16         WARISA         CHAISRISUT     THAI\n",
       "17       WEERAPAT          JULLAGATE     THAI\n",
       "18        PATINYA            WONGTIM     THAI\n",
       "19    PHONGSATORN        SIRIBANJONG     THAI\n",
       "20        PIMPIKA             BOONIN     THAI\n",
       "21      SITTICHOK       THIANPRAYORT     THAI\n",
       "22       KANYAWEE        BOONKOOMYOO     THAI\n",
       "23        MONTHON          WANNAPHOP     THAI\n",
       "24      PITNITHEE          MARPIJARN     THAI\n",
       "25       JATUPORN           HEMRANON     THAI\n",
       "26      THANAKORN           PANTHONG     THAI\n",
       "27         SURIYA              KENMA     THAI\n",
       "28     THODSAPORN      RUTANASOMRUAJ     THAI\n",
       "29        MONTIDA          FURATTANA     THAI\n",
       "..            ...                ...      ...\n",
       "169         CHANG               TIAN  CHINESE\n",
       "170          KANG                MIN  CHINESE\n",
       "171          ZENG             ZEDONG  CHINESE\n",
       "172          CHEN               HONG  CHINESE\n",
       "173           PAN               SHUN  CHINESE\n",
       "174          SHAO               CHAO  CHINESE\n",
       "175           ZOU            GENGXIN  CHINESE\n",
       "176            LU               FANG  CHINESE\n",
       "177          TANG               RONG  CHINESE\n",
       "178          KONG             JINGYI  CHINESE\n",
       "179          LIAN                FEN  CHINESE\n",
       "180          XIAO                JIE  CHINESE\n",
       "181           TAN                HAI  CHINESE\n",
       "182           YIN              ZHONG  CHINESE\n",
       "183           PAN               ZHOU  CHINESE\n",
       "184          WANG            LINGXIN  CHINESE\n",
       "185           XIE                 LI  CHINESE\n",
       "186            FU             JINGYI  CHINESE\n",
       "187         ZHENG               HUAN  CHINESE\n",
       "188          SHAO             QIGANG  CHINESE\n",
       "189         JIANG             JIAHAO  CHINESE\n",
       "190           HAO           ZHENKANG  CHINESE\n",
       "191           XUE              JIANG  CHINESE\n",
       "192          QIAN                SHI  CHINESE\n",
       "193         HUANG            HANYING  CHINESE\n",
       "194            SU               DONG  CHINESE\n",
       "195            DU             QIGANG  CHINESE\n",
       "196            XU              ZEMIN  CHINESE\n",
       "197           WAN              YIJUN  CHINESE\n",
       "198            ZI                QIU  CHINESE\n",
       "\n",
       "[199 rows x 3 columns]"
      ]
     },
     "execution_count": 450,
     "metadata": {},
     "output_type": "execute_result"
    }
   ],
   "source": [
    "# load the data\n",
    "file_name = 'names.csv'\n",
    "data = pd.read_csv(file_name, header=0, sep=',')\n",
    "data"
   ]
  },
  {
   "cell_type": "code",
   "execution_count": 451,
   "metadata": {
    "collapsed": false
   },
   "outputs": [
    {
     "data": {
      "text/html": [
       "<div>\n",
       "<table border=\"1\" class=\"dataframe\">\n",
       "  <thead>\n",
       "    <tr style=\"text-align: right;\">\n",
       "      <th></th>\n",
       "      <th>first_name</th>\n",
       "      <th>last_name</th>\n",
       "      <th>nation</th>\n",
       "    </tr>\n",
       "  </thead>\n",
       "  <tbody>\n",
       "    <tr>\n",
       "      <th>0</th>\n",
       "      <td>pongsiri</td>\n",
       "      <td>suasat</td>\n",
       "      <td>THAI</td>\n",
       "    </tr>\n",
       "    <tr>\n",
       "      <th>1</th>\n",
       "      <td>nopadon</td>\n",
       "      <td>misang</td>\n",
       "      <td>THAI</td>\n",
       "    </tr>\n",
       "    <tr>\n",
       "      <th>2</th>\n",
       "      <td>passaraporn</td>\n",
       "      <td>jirotrungroengkul</td>\n",
       "      <td>THAI</td>\n",
       "    </tr>\n",
       "    <tr>\n",
       "      <th>3</th>\n",
       "      <td>worawut</td>\n",
       "      <td>sangangam</td>\n",
       "      <td>THAI</td>\n",
       "    </tr>\n",
       "    <tr>\n",
       "      <th>4</th>\n",
       "      <td>kulpriya</td>\n",
       "      <td>kitcharoen</td>\n",
       "      <td>THAI</td>\n",
       "    </tr>\n",
       "  </tbody>\n",
       "</table>\n",
       "</div>"
      ],
      "text/plain": [
       "    first_name          last_name nation\n",
       "0     pongsiri             suasat   THAI\n",
       "1     nopadon              misang   THAI\n",
       "2  passaraporn  jirotrungroengkul   THAI\n",
       "3      worawut          sangangam   THAI\n",
       "4     kulpriya         kitcharoen   THAI"
      ]
     },
     "execution_count": 451,
     "metadata": {},
     "output_type": "execute_result"
    }
   ],
   "source": [
    "# convert name to lower case\n",
    "data['first_name'] = data['first_name'].str.lower()\n",
    "data['last_name'] = data['last_name'].str.lower()\n",
    "# data['full_name'] = data['first_name'] + ' ' + data['last_name']\n",
    "data.head()"
   ]
  },
  {
   "cell_type": "markdown",
   "metadata": {},
   "source": [
    "# Analyze name length"
   ]
  },
  {
   "cell_type": "code",
   "execution_count": 452,
   "metadata": {
    "collapsed": false
   },
   "outputs": [
    {
     "data": {
      "text/html": [
       "<div>\n",
       "<table border=\"1\" class=\"dataframe\">\n",
       "  <thead>\n",
       "    <tr style=\"text-align: right;\">\n",
       "      <th></th>\n",
       "      <th>first_name</th>\n",
       "      <th>last_name</th>\n",
       "      <th>nation</th>\n",
       "      <th>first_name_len</th>\n",
       "      <th>last_name_len</th>\n",
       "    </tr>\n",
       "  </thead>\n",
       "  <tbody>\n",
       "    <tr>\n",
       "      <th>0</th>\n",
       "      <td>pongsiri</td>\n",
       "      <td>suasat</td>\n",
       "      <td>THAI</td>\n",
       "      <td>8</td>\n",
       "      <td>6</td>\n",
       "    </tr>\n",
       "    <tr>\n",
       "      <th>1</th>\n",
       "      <td>nopadon</td>\n",
       "      <td>misang</td>\n",
       "      <td>THAI</td>\n",
       "      <td>8</td>\n",
       "      <td>6</td>\n",
       "    </tr>\n",
       "    <tr>\n",
       "      <th>2</th>\n",
       "      <td>passaraporn</td>\n",
       "      <td>jirotrungroengkul</td>\n",
       "      <td>THAI</td>\n",
       "      <td>11</td>\n",
       "      <td>17</td>\n",
       "    </tr>\n",
       "    <tr>\n",
       "      <th>3</th>\n",
       "      <td>worawut</td>\n",
       "      <td>sangangam</td>\n",
       "      <td>THAI</td>\n",
       "      <td>7</td>\n",
       "      <td>9</td>\n",
       "    </tr>\n",
       "    <tr>\n",
       "      <th>4</th>\n",
       "      <td>kulpriya</td>\n",
       "      <td>kitcharoen</td>\n",
       "      <td>THAI</td>\n",
       "      <td>8</td>\n",
       "      <td>10</td>\n",
       "    </tr>\n",
       "  </tbody>\n",
       "</table>\n",
       "</div>"
      ],
      "text/plain": [
       "    first_name          last_name nation  first_name_len  last_name_len\n",
       "0     pongsiri             suasat   THAI               8              6\n",
       "1     nopadon              misang   THAI               8              6\n",
       "2  passaraporn  jirotrungroengkul   THAI              11             17\n",
       "3      worawut          sangangam   THAI               7              9\n",
       "4     kulpriya         kitcharoen   THAI               8             10"
      ]
     },
     "execution_count": 452,
     "metadata": {},
     "output_type": "execute_result"
    }
   ],
   "source": [
    "data['first_name_len'] = data['first_name'].str.len()\n",
    "data['last_name_len'] = data['last_name'].str.len()\n",
    "# data['full_name_len'] = data['full_name'].str.len()\n",
    "data.head()"
   ]
  },
  {
   "cell_type": "code",
   "execution_count": 453,
   "metadata": {
    "collapsed": false,
    "scrolled": true
   },
   "outputs": [
    {
     "data": {
      "text/html": [
       "<div>\n",
       "<table border=\"1\" class=\"dataframe\">\n",
       "  <thead>\n",
       "    <tr style=\"text-align: right;\">\n",
       "      <th></th>\n",
       "      <th>first_name_len</th>\n",
       "      <th>last_name_len</th>\n",
       "    </tr>\n",
       "  </thead>\n",
       "  <tbody>\n",
       "    <tr>\n",
       "      <th>count</th>\n",
       "      <td>199.000000</td>\n",
       "      <td>199.000000</td>\n",
       "    </tr>\n",
       "    <tr>\n",
       "      <th>mean</th>\n",
       "      <td>5.743719</td>\n",
       "      <td>6.708543</td>\n",
       "    </tr>\n",
       "    <tr>\n",
       "      <th>std</th>\n",
       "      <td>2.700477</td>\n",
       "      <td>3.245117</td>\n",
       "    </tr>\n",
       "    <tr>\n",
       "      <th>min</th>\n",
       "      <td>2.000000</td>\n",
       "      <td>2.000000</td>\n",
       "    </tr>\n",
       "    <tr>\n",
       "      <th>25%</th>\n",
       "      <td>3.000000</td>\n",
       "      <td>4.000000</td>\n",
       "    </tr>\n",
       "    <tr>\n",
       "      <th>50%</th>\n",
       "      <td>5.000000</td>\n",
       "      <td>6.000000</td>\n",
       "    </tr>\n",
       "    <tr>\n",
       "      <th>75%</th>\n",
       "      <td>8.000000</td>\n",
       "      <td>9.000000</td>\n",
       "    </tr>\n",
       "    <tr>\n",
       "      <th>max</th>\n",
       "      <td>12.000000</td>\n",
       "      <td>17.000000</td>\n",
       "    </tr>\n",
       "  </tbody>\n",
       "</table>\n",
       "</div>"
      ],
      "text/plain": [
       "       first_name_len  last_name_len\n",
       "count      199.000000     199.000000\n",
       "mean         5.743719       6.708543\n",
       "std          2.700477       3.245117\n",
       "min          2.000000       2.000000\n",
       "25%          3.000000       4.000000\n",
       "50%          5.000000       6.000000\n",
       "75%          8.000000       9.000000\n",
       "max         12.000000      17.000000"
      ]
     },
     "execution_count": 453,
     "metadata": {},
     "output_type": "execute_result"
    }
   ],
   "source": [
    "data.describe()"
   ]
  },
  {
   "cell_type": "markdown",
   "metadata": {},
   "source": [
    "# Preprocessing name for machine learning model\n",
    "We need to convert name alphabets into a fixed length matrix, we also need to specify the maximum name\n",
    "length. E.g. if the maximum name length is 10, and the English alphabets are 26. Then the final vector length\n",
    "is 10*26 which is 260 for each name."
   ]
  },
  {
   "cell_type": "code",
   "execution_count": 632,
   "metadata": {
    "collapsed": false
   },
   "outputs": [
    {
     "data": {
      "text/plain": [
       "17"
      ]
     },
     "execution_count": 632,
     "metadata": {},
     "output_type": "execute_result"
    }
   ],
   "source": [
    "max_name_len = data['first_name_len'].max()\n",
    "max_name_len = max(data['last_name_len'].max(), max_name_len)\n",
    "max_name_len"
   ]
  },
  {
   "cell_type": "code",
   "execution_count": 633,
   "metadata": {
    "collapsed": false
   },
   "outputs": [
    {
     "data": {
      "text/plain": [
       "('abcdefghijklmnopqrstuvwxyz- ', 28)"
      ]
     },
     "execution_count": 633,
     "metadata": {},
     "output_type": "execute_result"
    }
   ],
   "source": [
    "import string\n",
    "allowed_chars = string.ascii_lowercase + '- '\n",
    "allowed_chars, len(allowed_chars)"
   ]
  },
  {
   "cell_type": "code",
   "execution_count": 634,
   "metadata": {
    "collapsed": false
   },
   "outputs": [
    {
     "data": {
      "text/plain": [
       "(array([[ 1.,  0.,  0.,  0.,  0.,  0.,  0.,  0.,  0.,  0.,  0.,  0.,  0.,\n",
       "          0.,  0.,  0.,  0.,  0.,  0.,  0.,  0.,  0.,  0.,  0.,  0.,  0.,\n",
       "          0.,  0.],\n",
       "        [ 0.,  1.,  0.,  0.,  0.,  0.,  0.,  0.,  0.,  0.,  0.,  0.,  0.,\n",
       "          0.,  0.,  0.,  0.,  0.,  0.,  0.,  0.,  0.,  0.,  0.,  0.,  0.,\n",
       "          0.,  0.],\n",
       "        [ 0.,  0.,  0.,  0.,  0.,  0.,  0.,  0.,  0.,  0.,  0.,  0.,  0.,\n",
       "          0.,  0.,  0.,  0.,  0.,  0.,  0.,  0.,  0.,  0.,  0.,  0.,  1.,\n",
       "          0.,  0.],\n",
       "        [ 0.,  0.,  0.,  0.,  0.,  0.,  0.,  0.,  0.,  0.,  0.,  0.,  0.,\n",
       "          0.,  0.,  0.,  0.,  0.,  0.,  0.,  0.,  0.,  0.,  0.,  0.,  0.,\n",
       "          0.,  0.],\n",
       "        [ 0.,  0.,  0.,  0.,  0.,  0.,  0.,  0.,  0.,  0.,  0.,  0.,  0.,\n",
       "          0.,  0.,  0.,  0.,  0.,  0.,  0.,  0.,  0.,  0.,  0.,  0.,  0.,\n",
       "          0.,  0.]], dtype=float32), (17, 28))"
      ]
     },
     "execution_count": 634,
     "metadata": {},
     "output_type": "execute_result"
    }
   ],
   "source": [
    "# convert name string into (name_len, len(allowed_chars)) shaped matrix containing one-hot values\n",
    "# if the character is present\n",
    "def name_to_matrix(name, max_name_len=None):\n",
    "    vectors = []\n",
    "    vec_shape = [1, len(allowed_chars)]\n",
    "    for c in name:\n",
    "        idx = None # contains index a=0, b=1, c=2, ..., z=25\n",
    "        vec = np.zeros(vec_shape, dtype=np.float32)\n",
    "        if c in allowed_chars:\n",
    "            idx = allowed_chars.index(c)\n",
    "            vec[0,idx] = 1.0\n",
    "        vectors.append(vec)\n",
    "    if max_name_len is not None:\n",
    "        n_blank_chars = max_name_len - len(name)\n",
    "        for i in range(n_blank_chars):\n",
    "            blank_vec = np.zeros(vec_shape, dtype=np.float32)\n",
    "            vectors.append(blank_vec)\n",
    "    return np.concatenate(vectors, axis=0)\n",
    "\n",
    "name_matrix = name_to_matrix('abz', max_name_len)\n",
    "name_matrix[:5, :], name_matrix.shape"
   ]
  },
  {
   "cell_type": "markdown",
   "metadata": {},
   "source": [
    "# Aggregating the dataset\n",
    "Use the function defined to aggregate the dataset"
   ]
  },
  {
   "cell_type": "code",
   "execution_count": 635,
   "metadata": {
    "collapsed": false
   },
   "outputs": [
    {
     "data": {
      "text/plain": [
       "((398, 17, 28), (398, 2))"
      ]
     },
     "execution_count": 635,
     "metadata": {},
     "output_type": "execute_result"
    }
   ],
   "source": [
    "# apply name_to_matrix() function to all the names and aggregate the results\n",
    "X, y, X_str = [], [], []\n",
    "name_cols = ['first_name', 'last_name']\n",
    "for name_col_idx, name_col in enumerate(name_cols):\n",
    "    for idx, row in data.iterrows():\n",
    "        name_matrix = name_to_matrix(row[name_col], max_name_len)\n",
    "        X.append(name_matrix[np.newaxis])\n",
    "        y.append([row['nation'], name_col])\n",
    "        X_str.append(row[name_col])\n",
    "X = np.concatenate(X, axis=0)\n",
    "y = np.array(y)\n",
    "X_str = np.array(X_str)\n",
    "X.shape, y.shape"
   ]
  },
  {
   "cell_type": "code",
   "execution_count": 636,
   "metadata": {
    "collapsed": false
   },
   "outputs": [
    {
     "data": {
      "text/plain": [
       "((318, 17, 28), (80, 17, 28), (318, 2), (80, 2))"
      ]
     },
     "execution_count": 636,
     "metadata": {},
     "output_type": "execute_result"
    }
   ],
   "source": [
    "X_train, X_test, y_train, y_test, X_str_train, X_str_test = train_test_split(X, y, X_str, test_size=0.2)\n",
    "X_train.shape, X_test.shape, y_train.shape, y_test.shape"
   ]
  },
  {
   "cell_type": "code",
   "execution_count": 637,
   "metadata": {
    "collapsed": false
   },
   "outputs": [
    {
     "data": {
      "text/plain": [
       "((318, 476), (80, 476))"
      ]
     },
     "execution_count": 637,
     "metadata": {},
     "output_type": "execute_result"
    }
   ],
   "source": [
    "def flatten_X(X):\n",
    "    return X.reshape([X.shape[0], -1])\n",
    "X_train_flat = flatten_X(X_train)\n",
    "X_test_flat = flatten_X(X_test)\n",
    "X_train_flat.shape, X_test_flat.shape"
   ]
  },
  {
   "cell_type": "markdown",
   "metadata": {},
   "source": [
    "# Train a machine learning model\n",
    "Use a simple model, or a deep one."
   ]
  },
  {
   "cell_type": "code",
   "execution_count": 638,
   "metadata": {
    "collapsed": false
   },
   "outputs": [
    {
     "name": "stdout",
     "output_type": "stream",
     "text": [
      "nation 1.0 0.925\n",
      "first/last 0.959119496855 0.675\n"
     ]
    }
   ],
   "source": [
    "# train a simple model and show the score\n",
    "model_names = ['nation', 'first/last']\n",
    "models = dict()\n",
    "for i in range(y.shape[1]):\n",
    "    simple_model = DecisionTreeClassifier()\n",
    "    simple_model.fit(X_train_flat, y_train[:,i])\n",
    "    print(model_names[i], simple_model.score(X_train_flat, y_train[:,i]), simple_model.score(X_test_flat, y_test[:,i]))\n",
    "    models[model_names[i]] = simple_model"
   ]
  },
  {
   "cell_type": "markdown",
   "metadata": {},
   "source": [
    "# Inference\n",
    "Given a name, predict the nation."
   ]
  },
  {
   "cell_type": "code",
   "execution_count": 647,
   "metadata": {
    "collapsed": false
   },
   "outputs": [
    {
     "name": "stdout",
     "output_type": "stream",
     "text": [
      "Model: nation\n",
      "(array(['CHINESE', 'THAI', 'THAI', 'THAI'], \n",
      "      dtype='<U10'), array([[ 1.,  0.],\n",
      "       [ 0.,  1.],\n",
      "       [ 0.,  1.],\n",
      "       [ 0.,  1.]]))\n",
      "Model: first/last\n",
      "(array(['last_name', 'first_name', 'first_name', 'first_name'], \n",
      "      dtype='<U10'), array([[ 0.4,  0.6],\n",
      "       [ 1. ,  0. ],\n",
      "       [ 1. ,  0. ],\n",
      "       [ 1. ,  0. ]]))\n"
     ]
    }
   ],
   "source": [
    "def predict(names, model, max_name_len):\n",
    "    assert(type(names) is list)\n",
    "    X = []\n",
    "    for name in names:\n",
    "        matrix = name_to_matrix(name, max_name_len)[np.newaxis]\n",
    "        X.append(matrix)\n",
    "    X = np.concatenate(X, axis=0)\n",
    "    X_flat = flatten_X(X)\n",
    "    return model.predict(X_flat), model.predict_proba(X_flat)\n",
    "\n",
    "names = [\"Zhang\", \"Sunisa\", \"Monthon\", \"Krittitam\"]\n",
    "for name, model in models.items():\n",
    "    print('Model:', name)\n",
    "    pred = predict(names, model, max_name_len)\n",
    "    print(pred)"
   ]
  },
  {
   "cell_type": "markdown",
   "metadata": {},
   "source": [
    "# Inspection\n",
    "Identify names that the model predicts incorrectly"
   ]
  },
  {
   "cell_type": "code",
   "execution_count": 651,
   "metadata": {
    "collapsed": false,
    "scrolled": true
   },
   "outputs": [
    {
     "data": {
      "text/plain": [
       "(array(['boonin', 'jianhong', 'kietpermsak', 'phurk', 'zhenkang', 'ruogang'], \n",
       "       dtype='<U17'),\n",
       " array(['THAI', 'CHINESE', 'THAI', 'THAI', 'CHINESE', 'CHINESE'], \n",
       "       dtype='<U10'))"
      ]
     },
     "execution_count": 651,
     "metadata": {},
     "output_type": "execute_result"
    }
   ],
   "source": [
    "incorrect_mask = models['nation'].predict(X_test_flat) != y_test[:,0]\n",
    "X_str_test[incorrect_mask], y_test[incorrect_mask][:,0]"
   ]
  },
  {
   "cell_type": "code",
   "execution_count": null,
   "metadata": {
    "collapsed": true
   },
   "outputs": [],
   "source": []
  }
 ],
 "metadata": {
  "kernelspec": {
   "display_name": "Python [default]",
   "language": "python",
   "name": "python3"
  },
  "language_info": {
   "codemirror_mode": {
    "name": "ipython",
    "version": 3
   },
   "file_extension": ".py",
   "mimetype": "text/x-python",
   "name": "python",
   "nbconvert_exporter": "python",
   "pygments_lexer": "ipython3",
   "version": "3.5.2"
  }
 },
 "nbformat": 4,
 "nbformat_minor": 1
}
